{
  "nbformat": 4,
  "nbformat_minor": 0,
  "metadata": {
    "colab": {
      "provenance": []
    },
    "kernelspec": {
      "name": "python3",
      "display_name": "Python 3"
    },
    "language_info": {
      "name": "python"
    }
  },
  "cells": [
    {
      "cell_type": "markdown",
      "source": [
        "## Overview\n",
        "\n",
        "This project provides a simple web application for predicting house prices in **Anchorage, Alaska**. It uses a pre-trained machine learning model (trained using `scikit-learn`) and a **Flask** web framework to create an interactive interface where users can input various house features and get an estimated price.\n",
        "\n",
        "---\n",
        "\n",
        "## Features\n",
        "\n",
        "* **Interactive Web Interface:** User-friendly form to input house features.\n",
        "* **Machine Learning Model:** Utilizes a pre-trained `scikit-learn` model for price prediction.\n",
        "* **Flask Backend:** Powers the web application, handling requests and serving predictions.\n",
        "* **Local Deployment:** Easy to run and test on your local machine.\n",
        "\n",
        "---\n",
        "\n",
        "## Getting Started\n",
        "\n",
        "Follow these instructions to set up and run the application on your local system.\n",
        "\n",
        "### Prerequisites\n",
        "\n",
        "Before you start, make sure you have **Python 3.6+** installed. You'll also need the following Python libraries:\n",
        "\n",
        "* `Flask`\n",
        "* `scikit-learn`\n",
        "* `pandas`\n",
        "* `pickle`\n",
        "\n",
        "You can install them via pip:\n",
        "\n",
        "```bash\n",
        "pip install flask scikit-learn pandas pickle"
      ],
      "metadata": {
        "id": "RF0rGv4-3bpJ"
      }
    },
    {
      "cell_type": "markdown",
      "source": [
        "1. Train & Save Model\n",
        "\n",
        "\n",
        "*   Requires a pre-traind machine learning model\n",
        "*   Trained on relevant historical house data for Anchorage, AK\n",
        "* Example shows how to create a dummy model with Linear Regression\n",
        "\n"
      ],
      "metadata": {
        "id": "PFaYfPTY3v6j"
      }
    },
    {
      "cell_type": "code",
      "source": [
        "import pandas as pd\n",
        "from sklearn.linear_model import LinearRegression\n",
        "import pickle\n",
        "\n",
        "# Sample training data (replace with Anchorage data)\n",
        "data = {'sq_ft': [1000, 1200, 1500, 900, 1100],\n",
        "        'bedrooms': [2, 3, 3, 2, 2],\n",
        "        'bathrooms': [1, 2, 2, 1, 1],\n",
        "        'year_built': [1990, 2000, 2010, 1985, 1995],\n",
        "        'price': [200000, 250000, 300000, 180000, 220000]}\n",
        "df = pd.DataFrame(data)\n",
        "\n",
        "X = df[['sq_ft', 'bedrooms', 'bathrooms', 'year_built']]\n",
        "y = df['price']\n",
        "\n",
        "model = LinearRegression()\n",
        "model.fit(X, y)\n",
        "\n",
        "# Save the trained model\n",
        "with open('model.pkl', 'wb') as file:\n",
        "    pickle.dump(model, file)\n",
        "\n",
        "print(\"Trained model saved as model.pkl\")"
      ],
      "metadata": {
        "colab": {
          "base_uri": "https://localhost:8080/"
        },
        "id": "t-_81IVY3H8Q",
        "outputId": "428b649f-7ecc-4571-974e-e22342e852fb"
      },
      "execution_count": 5,
      "outputs": [
        {
          "output_type": "stream",
          "name": "stdout",
          "text": [
            "Trained model saved as model.pkl\n"
          ]
        }
      ]
    },
    {
      "cell_type": "markdown",
      "source": [
        "**2. Create the Flask Application**\n",
        "This is the script that runs the web application."
      ],
      "metadata": {
        "id": "TfSAxtej4QJQ"
      }
    },
    {
      "cell_type": "code",
      "source": [
        "from flask import Flask, render_template, request\n",
        "import pickle\n",
        "import pandas as pd\n",
        "\n",
        "app = Flask(__name__)\n",
        "\n",
        "# Load the trained model\n",
        "try:\n",
        "    with open('model.pkl', 'rb') as file:\n",
        "        model = pickle.load(file)\n",
        "except FileNotFoundError:\n",
        "    print(\"Error: model.pkl not found. Make sure the model is saved in the same directory.\")\n",
        "    model = None\n",
        "\n",
        "@app.route('/')\n",
        "def home():\n",
        "    return render_template('index.html')\n",
        "\n",
        "@app.route('/predict', methods=['POST'])\n",
        "def predict():\n",
        "    if model is None:\n",
        "        return \"Error: Model not loaded.\"\n",
        "\n",
        "    try:\n",
        "        sq_ft = float(request.form['sq_ft'])\n",
        "        bedrooms = int(request.form['bedrooms'])\n",
        "        bathrooms = float(request.form['bathrooms'])\n",
        "        year_built = int(request.form['year_built'])\n",
        "\n",
        "        # Prepare the input data as a pandas DataFrame\n",
        "        input_data = pd.DataFrame([[sq_ft, bedrooms, bathrooms, year_built]],\n",
        "                                  columns=['sq_ft', 'bedrooms', 'bathrooms', 'year_built'])\n",
        "\n",
        "        # Make the prediction\n",
        "        prediction = model.predict(input_data)[0]\n",
        "        predicted_price = f\"${prediction:,.2f}\"\n",
        "\n",
        "        return render_template('index.html', prediction=predicted_price)\n",
        "\n",
        "    except ValueError:\n",
        "        return render_template('index.html', error=\"Please enter valid numerical values.\")\n",
        "    except Exception as e:\n",
        "        return render_template('index.html', error=f\"An error occurred: {e}\")\n",
        "\n",
        "if __name__ == '__main__':\n",
        "    app.run(debug=True)"
      ],
      "metadata": {
        "colab": {
          "base_uri": "https://localhost:8080/"
        },
        "id": "bF5X6I-E3M6T",
        "outputId": "9b775e8a-3d43-4747-a6a4-b72d62d341fb"
      },
      "execution_count": null,
      "outputs": [
        {
          "output_type": "stream",
          "name": "stdout",
          "text": [
            " * Serving Flask app '__main__'\n",
            " * Debug mode: on\n"
          ]
        },
        {
          "output_type": "stream",
          "name": "stderr",
          "text": [
            "INFO:werkzeug:\u001b[31m\u001b[1mWARNING: This is a development server. Do not use it in a production deployment. Use a production WSGI server instead.\u001b[0m\n",
            " * Running on http://127.0.0.1:5000\n",
            "INFO:werkzeug:\u001b[33mPress CTRL+C to quit\u001b[0m\n",
            "INFO:werkzeug: * Restarting with stat\n"
          ]
        }
      ]
    },
    {
      "cell_type": "markdown",
      "source": [
        "**3. Create the HTML Template**\n",
        "This creates a folder named templates in the same directory as app.py, inside the templates, creates index.html"
      ],
      "metadata": {
        "id": "ICcFMsCh4dB6"
      }
    },
    {
      "cell_type": "code",
      "source": [
        "<!DOCTYPE html>\n",
        "<html>\n",
        "<head>\n",
        "    <title>Anchorage House Price Prediction</title>\n",
        "    <style>\n",
        "        body {\n",
        "            font-family: sans-serif;\n",
        "            margin: 20px;\n",
        "        }\n",
        "        h1, h2 {\n",
        "            text-align: center;\n",
        "        }\n",
        "        form {\n",
        "            margin-top: 20px;\n",
        "            padding: 15px;\n",
        "            border: 1px solid #ccc;\n",
        "            border-radius: 5px;\n",
        "            width: 400px;\n",
        "            margin-left: auto;\n",
        "            margin-right: auto;\n",
        "        }\n",
        "        label {\n",
        "            display: block;\n",
        "            margin-bottom: 5px;\n",
        "            font-weight: bold;\n",
        "        }\n",
        "        input {\n",
        "            width: 100%;\n",
        "            padding: 8px;\n",
        "            margin-bottom: 10px;\n",
        "            border: 1px solid #ddd;\n",
        "            border-radius: 3px;\n",
        "            box-sizing: border-box;\n",
        "        }\n",
        "        button {\n",
        "            background-color: #007bff;\n",
        "            color: white;\n",
        "            padding: 10px 15px;\n",
        "            border: none;\n",
        "            border-radius: 5px;\n",
        "            cursor: pointer;\n",
        "            width: 100%;\n",
        "        }\n",
        "        .prediction {\n",
        "            margin-top: 20px;\n",
        "            text-align: center;\n",
        "            font-size: 1.2em;\n",
        "            font-weight: bold;\n",
        "        }\n",
        "        .error {\n",
        "            margin-top: 20px;\n",
        "            text-align: center;\n",
        "            color: red;\n",
        "        }\n",
        "    </style>\n",
        "</head>\n",
        "<body>\n",
        "    <h1>Anchorage House Price Prediction</h1>\n",
        "\n",
        "    <form action=\"/predict\" method=\"POST\">\n",
        "        <h2>Enter House Features:</h2>\n",
        "        <label for=\"sq_ft\">Square Footage:</label>\n",
        "        <input type=\"number\" id=\"sq_ft\" name=\"sq_ft\" required placeholder=\"e.g., 1200\">\n",
        "\n",
        "        <label for=\"bedrooms\">Number of Bedrooms:</label>\n",
        "        <input type=\"number\" id=\"bedrooms\" name=\"bedrooms\" required placeholder=\"e.g., 3\">\n",
        "\n",
        "        <label for=\"bathrooms\">Number of Bathrooms:</label>\n",
        "        <input type=\"number\" step=\"0.5\" id=\"bathrooms\" name=\"bathrooms\" required placeholder=\"e.g., 2.0\">\n",
        "\n",
        "        <label for=\"year_built\">Year Built:</label>\n",
        "        <input type=\"number\" id=\"year_built\" name=\"year_built\" required placeholder=\"e.g., 2005\">\n",
        "\n",
        "        <button type=\"submit\">Predict Price</button>\n",
        "    </form>\n",
        "\n",
        "    {% if prediction %}\n",
        "        <div class=\"prediction\">\n",
        "            <h2>Predicted House Price:</h2>\n",
        "            <p>{{ prediction }}</p>\n",
        "        </div>\n",
        "    {% endif %}\n",
        "\n",
        "    {% if error %}\n",
        "        <div class=\"error\">\n",
        "            <p>{{ error }}</p>\n",
        "        </div>\n",
        "    {% endif %}\n",
        "</body>\n",
        "</html>"
      ],
      "metadata": {
        "id": "miRQrCL33PyV"
      },
      "execution_count": null,
      "outputs": []
    },
    {
      "cell_type": "markdown",
      "source": [
        "**Running the Application**"
      ],
      "metadata": {
        "id": "P52L0mCe42dr"
      }
    },
    {
      "cell_type": "code",
      "source": [
        "python app.py"
      ],
      "metadata": {
        "id": "qcOYNeFH3S0W"
      },
      "execution_count": null,
      "outputs": []
    },
    {
      "cell_type": "markdown",
      "source": [
        "**Access the Web App: Open your web browser and go to http://127.0.0.1:5000/.**\n",
        "\n",
        "Should now see the \"Anchroage House Price Prediction\" form. Enter the desired features, click \"Predict Price\" and see the estimated house price."
      ],
      "metadata": {
        "id": "AHerep9B5BB_"
      }
    }
  ]
}